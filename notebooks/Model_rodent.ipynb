{
  "nbformat": 4,
  "nbformat_minor": 0,
  "metadata": {
    "colab": {
      "name": "Model_rodent.ipynb",
      "provenance": [],
      "collapsed_sections": []
    },
    "kernelspec": {
      "name": "python3",
      "display_name": "Python 3"
    },
    "language_info": {
      "name": "python"
    }
  },
  "cells": [
    {
      "cell_type": "markdown",
      "metadata": {
        "id": "ysAK7mqy8f6Q"
      },
      "source": [
        "# Rodent Inspection"
      ]
    },
    {
      "cell_type": "markdown",
      "metadata": {
        "id": "tu_Geg2M8joY"
      },
      "source": [
        "## Cargamos las librerías"
      ]
    },
    {
      "cell_type": "code",
      "metadata": {
        "id": "GYE0Kp-2z3VT"
      },
      "source": [
        "from sklearn.metrics import accuracy_score\n",
        "import pandas as pd\n",
        "from sklearn.model_selection import train_test_split\n",
        "import xgboost as xgb\n",
        "from sklearn.linear_model import LogisticRegression \n",
        "from sklearn.neighbors import KNeighborsClassifier\n",
        "import pickle\n",
        "from sklearn.preprocessing import LabelEncoder "
      ],
      "execution_count": 1,
      "outputs": []
    },
    {
      "cell_type": "markdown",
      "metadata": {
        "id": "Zf6iCFhE8nLA"
      },
      "source": [
        "## Cargamos los datos"
      ]
    },
    {
      "cell_type": "code",
      "metadata": {
        "id": "KxGRznIVwppw"
      },
      "source": [
        "#data = pd.read_csv(\"/src/utils/Rodent_Inspection.csv\")\n",
        "data = pd.read_csv(\"/content/drive/MyDrive/Rodent_inspection/data/Rodent_Inspection.csv\")"
      ],
      "execution_count": 2,
      "outputs": []
    },
    {
      "cell_type": "code",
      "metadata": {
        "colab": {
          "base_uri": "https://localhost:8080/",
          "height": 206
        },
        "id": "-nUM9nVHz-vE",
        "outputId": "ef822224-2062-405b-a4da-6112c4d35002"
      },
      "source": [
        "data.head()"
      ],
      "execution_count": 3,
      "outputs": [
        {
          "output_type": "execute_result",
          "data": {
            "text/html": [
              "<div>\n",
              "<style scoped>\n",
              "    .dataframe tbody tr th:only-of-type {\n",
              "        vertical-align: middle;\n",
              "    }\n",
              "\n",
              "    .dataframe tbody tr th {\n",
              "        vertical-align: top;\n",
              "    }\n",
              "\n",
              "    .dataframe thead th {\n",
              "        text-align: right;\n",
              "    }\n",
              "</style>\n",
              "<table border=\"1\" class=\"dataframe\">\n",
              "  <thead>\n",
              "    <tr style=\"text-align: right;\">\n",
              "      <th></th>\n",
              "      <th>job_ticket_or_work_order_id</th>\n",
              "      <th>job_id</th>\n",
              "      <th>inspection_type</th>\n",
              "      <th>boro_code</th>\n",
              "      <th>zip_code</th>\n",
              "      <th>latitude</th>\n",
              "      <th>longitude</th>\n",
              "      <th>inspection_date</th>\n",
              "      <th>result</th>\n",
              "    </tr>\n",
              "  </thead>\n",
              "  <tbody>\n",
              "    <tr>\n",
              "      <th>0</th>\n",
              "      <td>12702949</td>\n",
              "      <td>PC6905724</td>\n",
              "      <td>Initial</td>\n",
              "      <td>2</td>\n",
              "      <td>10464</td>\n",
              "      <td>40.849413</td>\n",
              "      <td>-73.783634</td>\n",
              "      <td>12/26/2019 03:07:52 PM</td>\n",
              "      <td>Passed</td>\n",
              "    </tr>\n",
              "    <tr>\n",
              "      <th>1</th>\n",
              "      <td>12813800</td>\n",
              "      <td>PC6674598</td>\n",
              "      <td>Compliance</td>\n",
              "      <td>2</td>\n",
              "      <td>10458</td>\n",
              "      <td>40.867578</td>\n",
              "      <td>-73.893214</td>\n",
              "      <td>03/22/2012 11:56:22 AM</td>\n",
              "      <td>Passed</td>\n",
              "    </tr>\n",
              "    <tr>\n",
              "      <th>2</th>\n",
              "      <td>11477545</td>\n",
              "      <td>PC6511011</td>\n",
              "      <td>Initial</td>\n",
              "      <td>1</td>\n",
              "      <td>10026</td>\n",
              "      <td>40.804475</td>\n",
              "      <td>-73.957622</td>\n",
              "      <td>11/07/2019 10:52:01 AM</td>\n",
              "      <td>Rat Activity</td>\n",
              "    </tr>\n",
              "    <tr>\n",
              "      <th>3</th>\n",
              "      <td>11208055</td>\n",
              "      <td>PC7355300</td>\n",
              "      <td>Initial</td>\n",
              "      <td>4</td>\n",
              "      <td>11356</td>\n",
              "      <td>40.786391</td>\n",
              "      <td>-73.832821</td>\n",
              "      <td>11/03/2010 11:20:15 AM</td>\n",
              "      <td>Failed for Other R</td>\n",
              "    </tr>\n",
              "    <tr>\n",
              "      <th>4</th>\n",
              "      <td>13037125</td>\n",
              "      <td>PC7222942</td>\n",
              "      <td>Compliance</td>\n",
              "      <td>3</td>\n",
              "      <td>11207</td>\n",
              "      <td>40.656963</td>\n",
              "      <td>-73.893995</td>\n",
              "      <td>09/07/2018 09:45:09 AM</td>\n",
              "      <td>Passed</td>\n",
              "    </tr>\n",
              "  </tbody>\n",
              "</table>\n",
              "</div>"
            ],
            "text/plain": [
              "   job_ticket_or_work_order_id  ...              result\n",
              "0                     12702949  ...              Passed\n",
              "1                     12813800  ...              Passed\n",
              "2                     11477545  ...        Rat Activity\n",
              "3                     11208055  ...  Failed for Other R\n",
              "4                     13037125  ...              Passed\n",
              "\n",
              "[5 rows x 9 columns]"
            ]
          },
          "metadata": {},
          "execution_count": 3
        }
      ]
    },
    {
      "cell_type": "code",
      "metadata": {
        "colab": {
          "base_uri": "https://localhost:8080/"
        },
        "id": "j7HEELw60qDa",
        "outputId": "c103667b-b1a9-49d8-e119-c3f9869dbe67"
      },
      "source": [
        "data.columns"
      ],
      "execution_count": 4,
      "outputs": [
        {
          "output_type": "execute_result",
          "data": {
            "text/plain": [
              "Index(['job_ticket_or_work_order_id', 'job_id', 'inspection_type', 'boro_code',\n",
              "       'zip_code', 'latitude', 'longitude', 'inspection_date', 'result'],\n",
              "      dtype='object')"
            ]
          },
          "metadata": {},
          "execution_count": 4
        }
      ]
    },
    {
      "cell_type": "markdown",
      "metadata": {
        "id": "2VKqCZEr3f4p"
      },
      "source": [
        "## Entrenamiento\n",
        "\n",
        "Dividimos en train y test"
      ]
    },
    {
      "cell_type": "code",
      "metadata": {
        "id": "EgV5fkaM3P7E"
      },
      "source": [
        "  X = data.drop(['result'], axis=1)\n",
        "  y = data['result']\n",
        "  X_train, X_test, y_train, y_test = train_test_split(X, y, test_size=0.10, random_state=12345)"
      ],
      "execution_count": 5,
      "outputs": []
    },
    {
      "cell_type": "markdown",
      "metadata": {
        "id": "MTamojgC2og_"
      },
      "source": [
        "## Función para obtener los pkl de los mejores modelos"
      ]
    },
    {
      "cell_type": "code",
      "metadata": {
        "id": "2ASxVJrywog5"
      },
      "source": [
        "def complete_model(data):\n",
        "  columns_to_drop = [\"job_ticket_or_work_order_id\",\"inspection_date\"]\n",
        "  data = data.drop(columns_to_drop,axis=1)\n",
        "  data = data.drop(data[data.result == \"Bait applied\"].index)\n",
        "  data.drop_duplicates()\n",
        "  def conditions(s):\n",
        "    if (s['result'] == \"Passed\") or (s['result'] == \"Monitoring visit\"):\n",
        "      return 0\n",
        "    else:\n",
        "      return 1\n",
        "  data['result'] = data.apply(conditions, axis=1)\n",
        "  Insp = pd.get_dummies(data['inspection_type'])\n",
        "  Insp=Insp.join(data.job_id)\n",
        "  data = pd.merge(data.drop(['inspection_type'], axis = 1),Insp, on=\"job_id\")\n",
        "  le = LabelEncoder()\n",
        "  data['boro_code'] = le.fit_transform(data['boro_code'])\n",
        "  data['result'] = le.fit_transform(data['result'])\n",
        "  data['job_id'] = le.fit_transform(data['job_id'].astype(str))\n",
        "\n",
        "  X = data.drop(['result'], axis=1)\n",
        "  y = data['result']\n",
        "  X_train, X_test, y_train, y_test = train_test_split(X, y, test_size=0.25, random_state=12345)\n",
        "      \n",
        "  # xgboost\n",
        "  model_xgb = xgb.XGBClassifier(\n",
        "      n_estimators=10,\n",
        "      max_depth=7,\n",
        "      learning_rate=0.4,\n",
        "      colsample_bytree=0.6,\n",
        "      missing=-999,\n",
        "      random_state=66)\n",
        "  model_xgb.fit(X_train, y_train)\n",
        "  pickle.dump(model_xgb, open('/content/drive/MyDrive/Rodent_inspection/data/entrenamiento_xgb.pkl', 'wb'))\n",
        " \n",
        "  # logistic regression\n",
        "  model_lr = LogisticRegression(\n",
        "      penalty = 'l2',\n",
        "      C= 1,\n",
        "      solver='lbfgs')\n",
        "  model_lr.fit(X_train, y_train)\n",
        "  pickle.dump(model_lr, open('/content/drive/MyDrive/Rodent_inspection/data/entrenamiento_lr.pkl', 'wb'))\n",
        "\n",
        "  # KNN\n",
        "  model_knn=KNeighborsClassifier(\n",
        "      n_neighbors=10,\n",
        "      weights='uniform',\n",
        "      algorithm='auto')\n",
        "  model_knn.fit(X_train, y_train)\n",
        "  pickle.dump(model_knn, open('/content/drive/MyDrive/Rodent_inspection/data/entrenamiento_knn.pkl', 'wb'))\n",
        "        \n",
        "  acc_xgb = accuracy_score(y_test, pickle.load(open('/content/drive/MyDrive/Rodent_inspection/data/entrenamiento_xgb.pkl', 'rb')).predict(X_test))\n",
        "  acc_lr = accuracy_score(y_test, pickle.load(open('/content/drive/MyDrive/Rodent_inspection/data/entrenamiento_lr.pkl', 'rb')).predict(X_test))\n",
        "  acc_knn = accuracy_score(y_test, pickle.load(open('/content/drive/MyDrive/Rodent_inspection/data/entrenamiento_knn.pkl', 'rb')).predict(X_test))\n",
        "        \n",
        "        \n",
        "  acc_diccionario = {\"XGB\": acc_xgb, \"LR\": acc_lr, \"KNN\": acc_knn}\n",
        "  print(\"####### Las precisiones de los modelos son: \", acc_diccionario)\n",
        "                \n",
        "  mejor_modelo=max(acc_diccionario, key=acc_diccionario.get)\n",
        "  acc_mejor_modelo=max(acc_diccionario.values())\n",
        "                \n",
        "  print(\"####### Mejor modelo: \", mejor_modelo)\n",
        "  print(\"####### El accuracy del mejor modelo es: \", acc_mejor_modelo)\n",
        "\n",
        "  "
      ],
      "execution_count": 6,
      "outputs": []
    },
    {
      "cell_type": "markdown",
      "metadata": {
        "id": "mXw3M5UA5UBv"
      },
      "source": [
        "## Desempeño"
      ]
    },
    {
      "cell_type": "code",
      "metadata": {
        "colab": {
          "base_uri": "https://localhost:8080/"
        },
        "id": "_NEaBmhI0CjK",
        "outputId": "90515bf0-29b2-4e80-c18e-40e8f6916fe1"
      },
      "source": [
        "complete_model(pd.concat([X_train, y_train], axis=1))"
      ],
      "execution_count": 7,
      "outputs": [
        {
          "output_type": "stream",
          "name": "stdout",
          "text": [
            "####### Las precisiones de los modelos son:  {'XGB': 0.740441027715962, 'LR': 0.7037983006271495, 'KNN': 0.7198816508193405}\n",
            "####### Mejor modelo:  XGB\n",
            "####### El accuracy del mejor modelo es:  0.740441027715962\n"
          ]
        }
      ]
    },
    {
      "cell_type": "markdown",
      "metadata": {
        "id": "dqkCjPXR5Zni"
      },
      "source": [
        "## Re-entrenamiento\n",
        "\n",
        "Con el 10% de la muestra restante"
      ]
    },
    {
      "cell_type": "code",
      "metadata": {
        "colab": {
          "base_uri": "https://localhost:8080/"
        },
        "id": "XyDPsKVV5fu7",
        "outputId": "862d5994-75be-4062-d171-ab440d795d81"
      },
      "source": [
        "complete_model(pd.concat([X_test, y_test], axis=1))"
      ],
      "execution_count": 8,
      "outputs": [
        {
          "output_type": "stream",
          "name": "stdout",
          "text": [
            "####### Las precisiones de los modelos son:  {'XGB': 0.7315564017134698, 'LR': 0.710851975249881, 'KNN': 0.7072822465492623}\n",
            "####### Mejor modelo:  XGB\n",
            "####### El accuracy del mejor modelo es:  0.7315564017134698\n"
          ]
        }
      ]
    },
    {
      "cell_type": "markdown",
      "metadata": {
        "id": "Q_C1ZySS5j4g"
      },
      "source": [
        "Muy parecido"
      ]
    },
    {
      "cell_type": "code",
      "metadata": {
        "colab": {
          "base_uri": "https://localhost:8080/"
        },
        "id": "yJ3A8tR31tXk",
        "outputId": "7091523c-794e-4558-9d0b-078cf25c2452"
      },
      "source": [
        "# Aquí se muestra el uso del pkl con la base completa\n",
        "# Load from file\n",
        "pkl_filename = \"/content/drive/MyDrive/Rodent_inspection/data/entrenamiento_lr.pkl\"\n",
        "with open(pkl_filename, 'rb') as file:\n",
        "  pickle_model = pickle.load(file)\n",
        "\n",
        "#Limpiamos\n",
        "columns_to_drop = [\"job_ticket_or_work_order_id\",\"inspection_date\"]\n",
        "data1 = data.drop(columns_to_drop,axis=1)\n",
        "data1 = data1.drop(data1[data1.result == \"Bait applied\"].index)\n",
        "data1.drop_duplicates()\n",
        "def conditions(s):\n",
        "  if (s['result'] == \"Passed\") or (s['result'] == \"Monitoring visit\"):\n",
        "    return 0\n",
        "  else:\n",
        "    return 1\n",
        "data1['result'] = data1.apply(conditions, axis=1)\n",
        "Insp = pd.get_dummies(data1['inspection_type'])\n",
        "Insp=Insp.join(data1.job_id)\n",
        "data1 = pd.merge(data1.drop(['inspection_type'], axis = 1),Insp, on=\"job_id\")\n",
        "le = LabelEncoder()\n",
        "data1['boro_code'] = le.fit_transform(data1['boro_code'])\n",
        "data1['result'] = le.fit_transform(data1['result'])\n",
        "data1['job_id'] = le.fit_transform(data1['job_id'].astype(str))\n",
        "\n",
        "X = data1.drop(['result'], axis=1)\n",
        "y = data1['result']\n",
        "X_train, X_test, y_train, y_test = train_test_split(X, y, test_size=0.25, random_state=1)\n",
        "\n",
        "# Calculate the accuracy score and predict target values\n",
        "score = pickle_model.score(X_test, y_test)\n",
        "print(\"Test score: {0:.2f} %\".format(100 * score))\n",
        "Ypredict = pickle_model.predict(X_test)\n",
        "      "
      ],
      "execution_count": 9,
      "outputs": [
        {
          "output_type": "stream",
          "name": "stdout",
          "text": [
            "Test score: 42.78 %\n"
          ]
        }
      ]
    },
    {
      "cell_type": "code",
      "metadata": {
        "colab": {
          "base_uri": "https://localhost:8080/"
        },
        "id": "6-7AuLZf6uz4",
        "outputId": "beaf83af-df29-4a40-915e-21427970e2a6"
      },
      "source": [
        "Ypredict"
      ],
      "execution_count": 10,
      "outputs": [
        {
          "output_type": "execute_result",
          "data": {
            "text/plain": [
              "array([1, 1, 1, ..., 1, 1, 1])"
            ]
          },
          "metadata": {},
          "execution_count": 10
        }
      ]
    },
    {
      "cell_type": "markdown",
      "metadata": {
        "id": "ziDOmLM66y9z"
      },
      "source": [
        "## Ejemplo con un dato nuevo"
      ]
    },
    {
      "cell_type": "code",
      "metadata": {
        "id": "ABo4m7nU64jG"
      },
      "source": [
        "d = {'job_id': [55874], 'boro_code': [3], 'zip_code': [12345], 'latitude': [40.825241], 'longitude': [-73.988733], 'BAIT': [1], 'CLEAN_UPS': [0], 'Compliance': [0], 'Initial': [0], 'STOPPAGE': [0]}\n",
        "df = pd.DataFrame(d)"
      ],
      "execution_count": 11,
      "outputs": []
    },
    {
      "cell_type": "code",
      "metadata": {
        "colab": {
          "base_uri": "https://localhost:8080/",
          "height": 81
        },
        "id": "KetRbfwR71-l",
        "outputId": "d891fc2a-66df-4aeb-ffe8-7fc3a1a586cf"
      },
      "source": [
        "df"
      ],
      "execution_count": 12,
      "outputs": [
        {
          "output_type": "execute_result",
          "data": {
            "text/html": [
              "<div>\n",
              "<style scoped>\n",
              "    .dataframe tbody tr th:only-of-type {\n",
              "        vertical-align: middle;\n",
              "    }\n",
              "\n",
              "    .dataframe tbody tr th {\n",
              "        vertical-align: top;\n",
              "    }\n",
              "\n",
              "    .dataframe thead th {\n",
              "        text-align: right;\n",
              "    }\n",
              "</style>\n",
              "<table border=\"1\" class=\"dataframe\">\n",
              "  <thead>\n",
              "    <tr style=\"text-align: right;\">\n",
              "      <th></th>\n",
              "      <th>job_id</th>\n",
              "      <th>boro_code</th>\n",
              "      <th>zip_code</th>\n",
              "      <th>latitude</th>\n",
              "      <th>longitude</th>\n",
              "      <th>BAIT</th>\n",
              "      <th>CLEAN_UPS</th>\n",
              "      <th>Compliance</th>\n",
              "      <th>Initial</th>\n",
              "      <th>STOPPAGE</th>\n",
              "    </tr>\n",
              "  </thead>\n",
              "  <tbody>\n",
              "    <tr>\n",
              "      <th>0</th>\n",
              "      <td>55874</td>\n",
              "      <td>3</td>\n",
              "      <td>12345</td>\n",
              "      <td>40.825241</td>\n",
              "      <td>-73.988733</td>\n",
              "      <td>1</td>\n",
              "      <td>0</td>\n",
              "      <td>0</td>\n",
              "      <td>0</td>\n",
              "      <td>0</td>\n",
              "    </tr>\n",
              "  </tbody>\n",
              "</table>\n",
              "</div>"
            ],
            "text/plain": [
              "   job_id  boro_code  zip_code  ...  Compliance  Initial  STOPPAGE\n",
              "0   55874          3     12345  ...           0        0         0\n",
              "\n",
              "[1 rows x 10 columns]"
            ]
          },
          "metadata": {},
          "execution_count": 12
        }
      ]
    },
    {
      "cell_type": "code",
      "metadata": {
        "colab": {
          "base_uri": "https://localhost:8080/"
        },
        "id": "yv11uoCg8OY_",
        "outputId": "edf0968b-ab70-4000-d097-a8b650282ac2"
      },
      "source": [
        "pickle_model.predict(df)"
      ],
      "execution_count": 13,
      "outputs": [
        {
          "output_type": "execute_result",
          "data": {
            "text/plain": [
              "array([1])"
            ]
          },
          "metadata": {},
          "execution_count": 13
        }
      ]
    }
  ]
}